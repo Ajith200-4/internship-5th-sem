{
 "cells": [
  {
   "cell_type": "code",
   "execution_count": 1,
   "id": "d6ef324a-2747-4a5c-bec6-038c2270fc4a",
   "metadata": {},
   "outputs": [
    {
     "name": "stdout",
     "output_type": "stream",
     "text": [
      "enter the number 5\n"
     ]
    },
    {
     "name": "stdout",
     "output_type": "stream",
     "text": [
      "Armstrong\n"
     ]
    }
   ],
   "source": [
    "#Armstrong\n",
    "num=int(input(\"enter the number\"))\n",
    "temp1=num\n",
    "temp2=num\n",
    "c=0\n",
    "while temp1>0:\n",
    "    c+=1\n",
    "    temp1=temp1//10\n",
    "arm=0\n",
    "while temp2>0:\n",
    "    d=temp2%10\n",
    "    arm=arm+d**c\n",
    "    temp2=temp2//10\n",
    "if arm==num:\n",
    "    print(\"Armstrong\")\n",
    "else:\n",
    "    print(\"not Armstrong\")"
   ]
  },
  {
   "cell_type": "code",
   "execution_count": 3,
   "id": "1ccc9e4c-270a-420e-b042-9c03ea31b4e5",
   "metadata": {},
   "outputs": [
    {
     "name": "stdout",
     "output_type": "stream",
     "text": [
      " 9\n"
     ]
    },
    {
     "name": "stdout",
     "output_type": "stream",
     "text": [
      "neon\n"
     ]
    }
   ],
   "source": [
    "#neon number\n",
    "n=int(input())\n",
    "sqr=n*n\n",
    "sum=0\n",
    "while sqr>0:\n",
    "    d=sqr%10\n",
    "    sum=sum+d\n",
    "    sqr=sqr//10\n",
    "if n==sum:\n",
    "    print(\"neon\")\n",
    "else:\n",
    "    print(\"not neon\")"
   ]
  },
  {
   "cell_type": "code",
   "execution_count": 5,
   "id": "a9fc2f96-14e6-437f-b630-57650afcefe8",
   "metadata": {
    "scrolled": true
   },
   "outputs": [
    {
     "name": "stdout",
     "output_type": "stream",
     "text": [
      " 9\n"
     ]
    },
    {
     "name": "stdout",
     "output_type": "stream",
     "text": [
      "not magic\n"
     ]
    }
   ],
   "source": [
    "#magic number\n",
    "n=int(input())\n",
    "while n>9:\n",
    "    s=0\n",
    "    while n>0:\n",
    "        d=n%10\n",
    "        s+=d\n",
    "        n//=10\n",
    "    n=s\n",
    "if n==1:\n",
    "    print(\"magic\")\n",
    "else:\n",
    "    print(\"not magic\")"
   ]
  },
  {
   "cell_type": "code",
   "execution_count": 6,
   "id": "614263da-4605-435d-a65b-b8580d43064f",
   "metadata": {},
   "outputs": [
    {
     "name": "stdout",
     "output_type": "stream",
     "text": [
      " 9\n"
     ]
    },
    {
     "name": "stdout",
     "output_type": "stream",
     "text": [
      "1 3 9 composite\n"
     ]
    }
   ],
   "source": [
    "#composite number\n",
    "n=int(input())\n",
    "if n<=1:\n",
    "    print(\"not composite\")\n",
    "c=0\n",
    "for i in range(1,n+1):\n",
    "    if n%i==0:\n",
    "        print(i,end=\" \")\n",
    "        c+=1\n",
    "if c>2:\n",
    "    print(\"composite\")\n",
    "else:\n",
    "    print(\"not composite\")"
   ]
  },
  {
   "cell_type": "code",
   "execution_count": 8,
   "id": "dca9dc68-1d6c-439c-9f1d-774d15cc261a",
   "metadata": {},
   "outputs": [
    {
     "name": "stdout",
     "output_type": "stream",
     "text": [
      "Enter the num: 28\n"
     ]
    },
    {
     "name": "stdout",
     "output_type": "stream",
     "text": [
      "perfect num\n"
     ]
    }
   ],
   "source": [
    "num=int(input(\"Enter the num:\"))\n",
    "sum=0\n",
    "for i in range(1,num):\n",
    "    if num%i==0:\n",
    "        sum=sum+i\n",
    "if num==sum:\n",
    "    print(\"perfect num\")\n",
    "else:\n",
    "    print(\"not perfect num\")"
   ]
  },
  {
   "cell_type": "code",
   "execution_count": 9,
   "id": "7234271c-2e3b-4964-95cb-d522112eef22",
   "metadata": {},
   "outputs": [
    {
     "name": "stdout",
     "output_type": "stream",
     "text": [
      "enter num 28\n"
     ]
    },
    {
     "name": "stdout",
     "output_type": "stream",
     "text": [
      "niven number\n"
     ]
    }
   ],
   "source": [
    "# niven number\n",
    "num=int(input(\"enter num\"))\n",
    "sum=0\n",
    "while num>0:\n",
    "    d=num%10\n",
    "    sum+=d\n",
    "    num//=10\n",
    "if num%sum==0:\n",
    "    print(\"niven number\")\n",
    "else:\n",
    "     print(\"not niven number\")"
   ]
  },
  {
   "cell_type": "code",
   "execution_count": 10,
   "id": "524a542e-6578-4deb-8068-cec86beff93b",
   "metadata": {},
   "outputs": [
    {
     "name": "stdout",
     "output_type": "stream",
     "text": [
      "enter the number 148\n"
     ]
    },
    {
     "name": "stdout",
     "output_type": "stream",
     "text": [
      "not strong num\n"
     ]
    }
   ],
   "source": [
    "num=int(input(\"enter the number\"))\n",
    "org_num=num\n",
    "fact=1\n",
    "sum=0\n",
    "while num>0:\n",
    "    d=num%10\n",
    "    for i in range(1,d+1):\n",
    "        #fact*=i\n",
    "        fact=fact*i\n",
    "    sum=sum+fact\n",
    "    num=num//10\n",
    "if org_num==sum:\n",
    "    print(\"strong num\")\n",
    "else:\n",
    "    print(\"not strong num\")"
   ]
  },
  {
   "cell_type": "code",
   "execution_count": 11,
   "id": "b5f7b26d-7796-4ca2-83c2-885cbc12d0bb",
   "metadata": {},
   "outputs": [
    {
     "name": "stdout",
     "output_type": "stream",
     "text": [
      "enter the num 10\n"
     ]
    },
    {
     "name": "stdout",
     "output_type": "stream",
     "text": [
      "not spy\n"
     ]
    }
   ],
   "source": [
    "num=int(input(\"enter the num\"))\n",
    "sum=0\n",
    "mul=1\n",
    "while num>0:\n",
    "    d=num%10\n",
    "    sum+=d\n",
    "    mul*=d\n",
    "    num=num//10\n",
    "if sum==mul:\n",
    "    print(\"spy number\")\n",
    "else:\n",
    "    print(\"not spy\")"
   ]
  },
  {
   "cell_type": "code",
   "execution_count": 2,
   "id": "2a70b737",
   "metadata": {},
   "outputs": [
    {
     "name": "stdout",
     "output_type": "stream",
     "text": [
      "[7, 8, 4]\n"
     ]
    }
   ],
   "source": [
    "l=list(map(int,input().split()))\n",
    "l[0],l[-1]=l[-1],l[0]\n",
    "print(l)"
   ]
  },
  {
   "cell_type": "code",
   "execution_count": 1,
   "id": "51c6fdb2-bd73-4bd6-80a1-bd55f20299b2",
   "metadata": {},
   "outputs": [
    {
     "name": "stdout",
     "output_type": "stream",
     "text": [
      "[4, 5, 8]\n"
     ]
    }
   ],
   "source": [
    "l=list(map(int,input().split()))\n",
    "u=[]\n",
    "for n in l:\n",
    "    if n not in u:\n",
    "        u.append(n)\n",
    "print(u)"
   ]
  },
  {
   "cell_type": "code",
   "execution_count": null,
   "id": "6d6bb0c2",
   "metadata": {},
   "outputs": [],
   "source": [
    "l=list(map(int,input().split()))\n",
    "c=[]\n",
    "for i in l:\n",
    "    "
   ]
  }
 ],
 "metadata": {
  "kernelspec": {
   "display_name": "Python 3",
   "language": "python",
   "name": "python3"
  },
  "language_info": {
   "codemirror_mode": {
    "name": "ipython",
    "version": 3
   },
   "file_extension": ".py",
   "mimetype": "text/x-python",
   "name": "python",
   "nbconvert_exporter": "python",
   "pygments_lexer": "ipython3",
   "version": "3.11.9"
  }
 },
 "nbformat": 4,
 "nbformat_minor": 5
}
