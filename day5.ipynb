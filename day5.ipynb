{
 "cells": [
  {
   "cell_type": "code",
   "execution_count": null,
   "id": "09587f66-083d-48e3-8414-1cc7bb71e03b",
   "metadata": {},
   "outputs": [],
   "source": [
    "#231. Power of Two"
   ]
  },
  {
   "cell_type": "code",
   "execution_count": 5,
   "id": "f55c2cea-65ec-4796-a24c-6eca23067315",
   "metadata": {},
   "outputs": [
    {
     "name": "stdout",
     "output_type": "stream",
     "text": [
      "1 2 "
     ]
    }
   ],
   "source": [
    "for i in range(1,6):\n",
    "    if i==3:\n",
    "        break \n",
    "    print(i,end=\" \") "
   ]
  },
  {
   "cell_type": "code",
   "execution_count": 7,
   "id": "b1e9038c-6d2b-488d-a0b7-928b4952417d",
   "metadata": {},
   "outputs": [
    {
     "name": "stdout",
     "output_type": "stream",
     "text": [
      "1 2 4 5 "
     ]
    }
   ],
   "source": [
    "for i in range(1,6):\n",
    "    if i==3:\n",
    "        continue \n",
    "    print(i,end=\" \") "
   ]
  },
  {
   "cell_type": "code",
   "execution_count": 9,
   "id": "e73c7b6a-db4d-4dd5-8c08-f4f4a46c2a00",
   "metadata": {},
   "outputs": [
    {
     "name": "stdout",
     "output_type": "stream",
     "text": [
      "1 1\n",
      "1 2\n",
      "2 1\n",
      "2 2\n",
      "3 1\n",
      "3 2\n",
      "4 1\n",
      "4 2\n"
     ]
    }
   ],
   "source": [
    "for i in range(1,5):\n",
    "    for j in range(1,5):\n",
    "        if j==3:\n",
    "            break \n",
    "        print(i,j) "
   ]
  },
  {
   "cell_type": "code",
   "execution_count": 18,
   "id": "e9321c82-fcfb-41f4-af6f-c13279c4202f",
   "metadata": {},
   "outputs": [],
   "source": [
    "for i in range(5):\n",
    "    if i<3:\n",
    "        break \n",
    "    print(i)"
   ]
  },
  {
   "cell_type": "code",
   "execution_count": 22,
   "id": "b7d9f01e-7bb6-4ad4-baee-2547eabedbbf",
   "metadata": {},
   "outputs": [
    {
     "name": "stdout",
     "output_type": "stream",
     "text": [
      "1\n",
      "2\n"
     ]
    }
   ],
   "source": [
    "count=0\n",
    "while count < 5:\n",
    "    count+=1\n",
    "    if count==3:\n",
    "        break \n",
    "    print(count)"
   ]
  },
  {
   "cell_type": "code",
   "execution_count": 24,
   "id": "66d4d648-971a-46c2-ad1c-ac898fefc177",
   "metadata": {},
   "outputs": [
    {
     "name": "stdout",
     "output_type": "stream",
     "text": [
      "1 3 "
     ]
    }
   ],
   "source": [
    "for i in range(1,6):\n",
    "    if i%2==0:\n",
    "        continue \n",
    "    if i ==5:\n",
    "        break\n",
    "    print(i,end=\" \")"
   ]
  },
  {
   "cell_type": "code",
   "execution_count": null,
   "id": "e7b8184f-5e8a-4209-a168-65faf73d5af1",
   "metadata": {},
   "outputs": [],
   "source": [
    "#1720. Decode XORed Array"
   ]
  },
  {
   "cell_type": "code",
   "execution_count": null,
   "id": "00d51e83-7a40-4964-811f-b5ff29f85189",
   "metadata": {},
   "outputs": [],
   "source": [
    "#9. Palindrome Number"
   ]
  },
  {
   "cell_type": "code",
   "execution_count": 29,
   "id": "ee069fc3-77da-4dae-a8d2-3c514c001b08",
   "metadata": {},
   "outputs": [
    {
     "name": "stdout",
     "output_type": "stream",
     "text": [
      "(4, 5, 6, 2, 3, 4, 4, 7)\n",
      "3\n"
     ]
    }
   ],
   "source": [
    "#\n",
    "tuplex = 4, 5, 6, 2, 3, 4, 4, 7\n",
    "print(tuplex)\n",
    "count = tuplex.count(4)\n",
    "print(count)"
   ]
  },
  {
   "cell_type": "code",
   "execution_count": 30,
   "id": "1163bf15-94ac-468e-8fac-19ac5f969a13",
   "metadata": {},
   "outputs": [
    {
     "data": {
      "text/plain": [
       "152"
      ]
     },
     "execution_count": 30,
     "metadata": {},
     "output_type": "execute_result"
    }
   ],
   "source": [
    "s=(14,152,23,10,8)\n",
    "max(s)"
   ]
  },
  {
   "cell_type": "code",
   "execution_count": 31,
   "id": "40d6dbcb-1c33-4e2b-b673-2bfae374649e",
   "metadata": {},
   "outputs": [
    {
     "data": {
      "text/plain": [
       "True"
      ]
     },
     "execution_count": 31,
     "metadata": {},
     "output_type": "execute_result"
    }
   ],
   "source": [
    "s=(1,2,3,4,5)\n",
    "all(s)"
   ]
  },
  {
   "cell_type": "code",
   "execution_count": 32,
   "id": "562b2e5c-ed23-47c2-8260-d876bdd9d59a",
   "metadata": {},
   "outputs": [
    {
     "data": {
      "text/plain": [
       "True"
      ]
     },
     "execution_count": 32,
     "metadata": {},
     "output_type": "execute_result"
    }
   ],
   "source": [
    "s=(0,0,1,7,6,5)\n",
    "any(s)"
   ]
  },
  {
   "cell_type": "code",
   "execution_count": 33,
   "id": "63e931cf-b4b0-4b92-9d96-26d47219e022",
   "metadata": {},
   "outputs": [
    {
     "name": "stdout",
     "output_type": "stream",
     "text": [
      "True\n",
      "False\n"
     ]
    }
   ],
   "source": [
    "set1={10,20,30,40,50}\n",
    "set2={60,70,10,30,40,80,20,50}\n",
    "print(set1.issubset(set2))\n",
    "print(set2.issubset(set1))\n"
   ]
  },
  {
   "cell_type": "code",
   "execution_count": 34,
   "id": "1d1c2db5-1555-4ee4-91e8-7eff3b1bf24b",
   "metadata": {},
   "outputs": [
    {
     "name": "stdout",
     "output_type": "stream",
     "text": [
      "{1, 3}\n"
     ]
    }
   ],
   "source": [
    "r={s for s in[1,2,3] if s%2}\n",
    "print(r)"
   ]
  },
  {
   "cell_type": "code",
   "execution_count": 36,
   "id": "9ed7e3e4-5fa3-4fca-9b6e-d07ffdb2af02",
   "metadata": {},
   "outputs": [],
   "source": [
    "student_marks={\n",
    "    'sita':95,\n",
    "    'aakash':80,\n",
    "    'honey':56,\n",
    "    'mallesh':15,\n",
    "    'arjun':54,\n",
    "    'mani':29\n",
    "}"
   ]
  },
  {
   "cell_type": "code",
   "execution_count": null,
   "id": "2d8f78fb-df14-462e-815e-eac1bffa4dba",
   "metadata": {},
   "outputs": [],
   "source": [
    "# 594. Longest Harmonious Subsequence"
   ]
  },
  {
   "cell_type": "code",
   "execution_count": null,
   "id": "19b00653-50d8-4877-b5b0-04b3798c17cb",
   "metadata": {},
   "outputs": [],
   "source": [
    "# 1512. Number of Good Pairs"
   ]
  },
  {
   "cell_type": "code",
   "execution_count": null,
   "id": "46bfd25b-73ec-470f-8ea1-576f466ea379",
   "metadata": {},
   "outputs": [],
   "source": [
    "# 349. Intersection of Two Arrays"
   ]
  }
 ],
 "metadata": {
  "kernelspec": {
   "display_name": "anaconda-2024.02-py310",
   "language": "python",
   "name": "conda-env-anaconda-2024.02-py310-py"
  },
  "language_info": {
   "codemirror_mode": {
    "name": "ipython",
    "version": 3
   },
   "file_extension": ".py",
   "mimetype": "text/x-python",
   "name": "python",
   "nbconvert_exporter": "python",
   "pygments_lexer": "ipython3",
   "version": "3.10.14"
  }
 },
 "nbformat": 4,
 "nbformat_minor": 5
}
