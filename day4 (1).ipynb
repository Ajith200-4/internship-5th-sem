{
 "cells": [
  {
   "cell_type": "code",
   "execution_count": 5,
   "id": "f90b02a7-38e8-414f-a332-d65d94a1cdde",
   "metadata": {},
   "outputs": [
    {
     "name": "stdout",
     "output_type": "stream",
     "text": [
      "1\n"
     ]
    }
   ],
   "source": [
    "#Police Recruits\n",
    "l=[1,-1,1,-1,-1,1,1,1]\n",
    "p=0\n",
    "uns=0\n",
    "for i in l:\n",
    "    if i==-1:\n",
    "        if p>0:\n",
    "            p-=1\n",
    "        else:\n",
    "            uns+=1\n",
    "    else:\n",
    "        p+=i\n",
    "print(uns)"
   ]
  },
  {
   "cell_type": "code",
   "execution_count": null,
   "id": "15017808-9c89-4cdc-b6b1-f908b3597f22",
   "metadata": {},
   "outputs": [],
   "source": [
    "#Third Maximum Number\n",
    "class Solution:\n",
    "    def thirdMax(self, nums: List[int]) -> int:\n",
    "        nums = sorted(list(set(nums)))\n",
    "        return nums[-1] if len(nums)<3 else nums[-3]"
   ]
  },
  {
   "cell_type": "code",
   "execution_count": null,
   "id": "cb4154d5-6a45-45b4-8861-16878641a04f",
   "metadata": {},
   "outputs": [],
   "source": [
    "# . Move Zeroes\n",
    "class Solution:\n",
    "    def moveZeroes(self, nums: List[int]) -> None:\n",
    "        a = 0\n",
    "        for i in range(len(nums)):\n",
    "            if nums[i] != 0 :\n",
    "                nums[a], nums[i] = nums[i], nums[a]\n",
    "                a=a+1\n",
    "    "
   ]
  },
  {
   "cell_type": "code",
   "execution_count": null,
   "id": "50487506-bc42-4fb1-93f3-e2ffa177600a",
   "metadata": {},
   "outputs": [],
   "source": [
    "# Two sum\n",
    "class Solution:\n",
    "    def twoSum(self, nums: List[int], target: int) -> List[int]:\n",
    "        dic = {}\n",
    "        for idx, num in enumerate(nums):\n",
    "            if target - num in dic:\n",
    "                return [dic[target - num], idx]\n",
    "            dic[num] = idx  "
   ]
  },
  {
   "cell_type": "code",
   "execution_count": null,
   "id": "35901fea-d61c-4a5a-b315-0d8d78db4ca2",
   "metadata": {},
   "outputs": [],
   "source": [
    "#Plus One\n",
    "class Solution:\n",
    "    def plusOne(self, digits: List[int]) -> List[int]:\n",
    "        count=0\n",
    "        number=0\n",
    "        for i in digits[::-1]:\n",
    "            number+=i*(10**count)\n",
    "            count+=1\n",
    "        number+=1\n",
    "        result=[]\n",
    "        for i in str(number):\n",
    "            result.append(int(i))\n",
    "        return result"
   ]
  },
  {
   "cell_type": "code",
   "execution_count": null,
   "id": "32995988-10fb-4537-8488-9a50ef181e9b",
   "metadata": {},
   "outputs": [],
   "source": [
    "#\n",
    "j=0\n",
    "for i in range(len(nums)):\n",
    "    if nums[i]=val:\n",
    "        nums[j]=nums[i]\n",
    "        j+=1\n",
    "return j"
   ]
  },
  {
   "cell_type": "code",
   "execution_count": null,
   "id": "e049b230-6a5b-4243-b530-210447381f9b",
   "metadata": {},
   "outputs": [],
   "source": [
    "#Replace Elements with Greatest Element on Right Side"
   ]
  },
  {
   "cell_type": "code",
   "execution_count": 8,
   "id": "704e1034-6141-450c-a6ae-0ecdaa2c23f8",
   "metadata": {},
   "outputs": [
    {
     "name": "stdin",
     "output_type": "stream",
     "text": [
      " 10\n"
     ]
    },
    {
     "name": "stdout",
     "output_type": "stream",
     "text": [
      "even\n"
     ]
    }
   ],
   "source": [
    "# even or odd\n",
    "num=int(input())\n",
    "if num&1==0:\n",
    "    print(\"even\")\n",
    "else:\n",
    "    print(\"odd\")"
   ]
  },
  {
   "cell_type": "code",
   "execution_count": 13,
   "id": "26e03fcf-650d-4669-916c-20d7c62c5f52",
   "metadata": {},
   "outputs": [
    {
     "name": "stdout",
     "output_type": "stream",
     "text": [
      "Swapped a = 10, b = 5\n"
     ]
    }
   ],
   "source": [
    "#swapping number \n",
    "def swap(a, b):\n",
    "    a = a ^b\n",
    "    b = a ^b\n",
    "    a = a ^ b\n",
    "    return a, b\n",
    "a, b = 5, 10\n",
    "a, b = swap(a, b)\n",
    "print(f\"Swapped a = {a}, b = {b}\")"
   ]
  },
  {
   "cell_type": "code",
   "execution_count": 16,
   "id": "410b4fed-6a68-4dfc-a39a-f59eede2c88c",
   "metadata": {},
   "outputs": [
    {
     "name": "stdin",
     "output_type": "stream",
     "text": [
      "enter n: 15\n"
     ]
    },
    {
     "name": "stdout",
     "output_type": "stream",
     "text": [
      "0\n"
     ]
    }
   ],
   "source": [
    "# sequence \n",
    "def XoR(n):\n",
    "    if n%4==1:\n",
    "        return 1\n",
    "    if n%4==2:\n",
    "        return n+1\n",
    "    if n%4==3:\n",
    "        return 0\n",
    "    if n%4==0:\n",
    "        return n\n",
    "n=int(input(\"enter n:\"))\n",
    "print(XoR(n))"
   ]
  },
  {
   "cell_type": "code",
   "execution_count": 24,
   "id": "3068fc2e-913b-4980-a2f8-1004ffa17e03",
   "metadata": {},
   "outputs": [
    {
     "name": "stdin",
     "output_type": "stream",
     "text": [
      " 2 4\n"
     ]
    },
    {
     "name": "stdout",
     "output_type": "stream",
     "text": [
      "5\n"
     ]
    }
   ],
   "source": [
    "# XOR from left to right\n",
    "def XoR(n):\n",
    "    if n%4==1:\n",
    "        return 1\n",
    "    if n%4==2:\n",
    "        return n+1\n",
    "    if n%4==3:\n",
    "        return 0\n",
    "    if n%4==0:\n",
    "        return n\n",
    "l,r=map(int,input().split())\n",
    "a=XoR(r)\n",
    "b=XoR(l-1)\n",
    "print(a^b)"
   ]
  },
  {
   "cell_type": "code",
   "execution_count": null,
   "id": "163309d6-b2b0-4191-bead-6e2e39e16e19",
   "metadata": {},
   "outputs": [],
   "source": [
    "#Number of 1 Bits"
   ]
  }
 ],
 "metadata": {
  "kernelspec": {
   "display_name": "anaconda-2024.02-py310",
   "language": "python",
   "name": "conda-env-anaconda-2024.02-py310-py"
  },
  "language_info": {
   "codemirror_mode": {
    "name": "ipython",
    "version": 3
   },
   "file_extension": ".py",
   "mimetype": "text/x-python",
   "name": "python",
   "nbconvert_exporter": "python",
   "pygments_lexer": "ipython3",
   "version": "3.10.14"
  }
 },
 "nbformat": 4,
 "nbformat_minor": 5
}
