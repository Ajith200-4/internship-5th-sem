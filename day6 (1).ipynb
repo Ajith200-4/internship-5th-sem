{
 "cells": [
  {
   "cell_type": "code",
   "execution_count": 2,
   "id": "ff77c4c8-7d6b-4e0d-9d9f-7df1a52144c0",
   "metadata": {},
   "outputs": [
    {
     "name": "stdin",
     "output_type": "stream",
     "text": [
      " a@@@@dsdhs256!\n"
     ]
    },
    {
     "name": "stdout",
     "output_type": "stream",
     "text": [
      "6 3\n"
     ]
    }
   ],
   "source": [
    "#count of alphabet and digits in a string\n",
    "s=input()\n",
    "ca=0\n",
    "cd=0\n",
    "for char in s:\n",
    "    if char.isalpha():\n",
    "        ca+=1\n",
    "    if char.isdigit():\n",
    "        cd+=1\n",
    "print(ca,cd)\n",
    "    "
   ]
  },
  {
   "cell_type": "code",
   "execution_count": 3,
   "id": "00f53a51-e96b-4f60-aa97-cf6026b13c7a",
   "metadata": {},
   "outputs": [
    {
     "name": "stdin",
     "output_type": "stream",
     "text": [
      " a\n"
     ]
    },
    {
     "name": "stdout",
     "output_type": "stream",
     "text": [
      "1\n"
     ]
    }
   ],
   "source": [
    "# find the vowels \n",
    "s=input()\n",
    "c=0\n",
    "v='aeiouAEIOU'\n",
    "for char in s:\n",
    "    if char in v:\n",
    "        c+=1\n",
    "print(c)"
   ]
  },
  {
   "cell_type": "code",
   "execution_count": 4,
   "id": "4c7830f0-5890-41f2-a249-b0159432ae88",
   "metadata": {},
   "outputs": [
    {
     "name": "stdin",
     "output_type": "stream",
     "text": [
      " aeio\n"
     ]
    },
    {
     "name": "stdout",
     "output_type": "stream",
     "text": [
      "0\n"
     ]
    }
   ],
   "source": [
    "# find the consonants \n",
    "s=input()\n",
    "c=0\n",
    "v='aeiouAEIOU'\n",
    "for char in s:\n",
    "    if char not in v:\n",
    "        c+=1\n",
    "print(c)"
   ]
  },
  {
   "cell_type": "code",
   "execution_count": 5,
   "id": "df931f2c-38e9-466f-9e31-de06cd41017e",
   "metadata": {},
   "outputs": [
    {
     "name": "stdin",
     "output_type": "stream",
     "text": [
      " hello\n"
     ]
    },
    {
     "name": "stdout",
     "output_type": "stream",
     "text": [
      "5\n"
     ]
    }
   ],
   "source": [
    "s=input()\n",
    "print(len(s))"
   ]
  },
  {
   "cell_type": "code",
   "execution_count": 8,
   "id": "7c6d2df3-7d3e-4533-ad4c-6778f04456ab",
   "metadata": {},
   "outputs": [
    {
     "name": "stdin",
     "output_type": "stream",
     "text": [
      " i am ajith\n"
     ]
    },
    {
     "name": "stdout",
     "output_type": "stream",
     "text": [
      "i-am-ajith\n"
     ]
    }
   ],
   "source": [
    "#with replace\n",
    "s=input()\n",
    "s=s.replace(\" \",\"-\")\n",
    "print(s)"
   ]
  },
  {
   "cell_type": "code",
   "execution_count": 9,
   "id": "4159f30d-27b7-427e-99db-6e6e9842f3b1",
   "metadata": {},
   "outputs": [
    {
     "name": "stdin",
     "output_type": "stream",
     "text": [
      "Enter string: hi ajith\n"
     ]
    },
    {
     "name": "stdout",
     "output_type": "stream",
     "text": [
      " hi-ajith\n"
     ]
    }
   ],
   "source": [
    "#\n",
    "s=input(\"Enter string:\")\n",
    "s1=\" \"\n",
    "for char in s:\n",
    "    if char.isspace():\n",
    "        s1+='-'\n",
    "    else:\n",
    "        s1+=char\n",
    "print(s1)"
   ]
  },
  {
   "cell_type": "code",
   "execution_count": 12,
   "id": "71055db5-3ad6-438e-bed2-f25f284b3f5b",
   "metadata": {},
   "outputs": [
    {
     "name": "stdin",
     "output_type": "stream",
     "text": [
      "Enter the string bitm students are vary good\n"
     ]
    },
    {
     "name": "stdout",
     "output_type": "stream",
     "text": [
      "Bitm Students Are Vary Good\n"
     ]
    }
   ],
   "source": [
    "# Using title()\n",
    "s = input(\"Enter the string\")\n",
    "s= s.title()\n",
    "print(s)\n"
   ]
  },
  {
   "cell_type": "code",
   "execution_count": 14,
   "id": "6d3f147e-0a11-4334-9c04-6aaabdfda57b",
   "metadata": {},
   "outputs": [
    {
     "name": "stdin",
     "output_type": "stream",
     "text": [
      "Enter the string hi hello world\n"
     ]
    },
    {
     "name": "stdout",
     "output_type": "stream",
     "text": [
      "  Hi Hello World\n"
     ]
    }
   ],
   "source": [
    "#without using title \n",
    "s= input(\"Enter the string\")\n",
    "words= s.split()\n",
    "res=' '\n",
    "for word in words:\n",
    "    cap=word[0].upper()+word[1:]\n",
    "    res=res+' '+cap\n",
    "print(res)"
   ]
  },
  {
   "cell_type": "code",
   "execution_count": 16,
   "id": "c5cdcacf-e700-4f46-b33a-5eaf4c6bcd45",
   "metadata": {},
   "outputs": [
    {
     "name": "stdin",
     "output_type": "stream",
     "text": [
      "enter string hi hello word\n"
     ]
    },
    {
     "name": "stdout",
     "output_type": "stream",
     "text": [
      " drow olleh ih\n"
     ]
    }
   ],
   "source": [
    "# revers the string without using slicing\n",
    "s=input(\"enter string\")\n",
    "s1=' '\n",
    "for i in range(len(s)-1,-1,-1):\n",
    "    s1+=s[i]\n",
    "print(s1)"
   ]
  },
  {
   "cell_type": "code",
   "execution_count": 26,
   "id": "95e3d99b-8148-4d84-bc10-f349130292ac",
   "metadata": {},
   "outputs": [
    {
     "name": "stdin",
     "output_type": "stream",
     "text": [
      "enter string hi hello\n"
     ]
    },
    {
     "name": "stdout",
     "output_type": "stream",
     "text": [
      "5\n",
      "hello\n"
     ]
    }
   ],
   "source": [
    "#length of longest word sentence \n",
    "s=input(\"enter string\")\n",
    "l=s.split()\n",
    "length=0\n",
    "lword=''\n",
    "for word in l:\n",
    "    if len(word)>length:\n",
    "        length=len(word)\n",
    "        lword=word\n",
    "print(length)\n",
    "print(lword)"
   ]
  },
  {
   "cell_type": "code",
   "execution_count": 29,
   "id": "6fd23fbf-6dfc-4510-a585-ae79a8c1b17a",
   "metadata": {},
   "outputs": [
    {
     "name": "stdin",
     "output_type": "stream",
     "text": [
      "enter string hi\n"
     ]
    },
    {
     "name": "stdout",
     "output_type": "stream",
     "text": [
      "not palindrome\n"
     ]
    }
   ],
   "source": [
    "#check weather a string is palindrome or not\n",
    "s=input(\"enter string\")\n",
    "if s==s[::-1]:\n",
    "    print(\"palindrome\")\n",
    "else:\n",
    "    print(\"not palindrome\")"
   ]
  },
  {
   "cell_type": "code",
   "execution_count": 33,
   "id": "83f9636d-870a-4e9d-a339-5158f2af77ff",
   "metadata": {},
   "outputs": [
    {
     "name": "stdin",
     "output_type": "stream",
     "text": [
      "enter string a a a a \n"
     ]
    },
    {
     "name": "stdout",
     "output_type": "stream",
     "text": [
      "Original: a a a a \n",
      "Without duplicates: a \n"
     ]
    }
   ],
   "source": [
    "#remove duplicates in a string\n",
    "s=input(\"enter string\")\n",
    "result = \"\"\n",
    "for ch in s:\n",
    "    if ch not in result: \n",
    "        result += ch\n",
    "print(\"Original:\", s)\n",
    "print(\"Without duplicates:\", result)"
   ]
  },
  {
   "cell_type": "code",
   "execution_count": 35,
   "id": "15a85946-5ec7-42ba-b4ac-1080944b540f",
   "metadata": {},
   "outputs": [
    {
     "name": "stdin",
     "output_type": "stream",
     "text": [
      "enter string aabjiyy\n"
     ]
    },
    {
     "name": "stdout",
     "output_type": "stream",
     "text": [
      "Most repeated character: a\n",
      "Frequency: 2\n"
     ]
    }
   ],
   "source": [
    "# find most repeted characters in a string\n",
    "s=input(\"enter string\")\n",
    "c = 0\n",
    "char = \"\"\n",
    "for ch in s:\n",
    "    count = s.count(ch) \n",
    "    if count > c:\n",
    "        c = count\n",
    "        char = ch\n",
    "print(\"Most repeated character:\", char)\n",
    "print(\"Frequency:\", c)"
   ]
  },
  {
   "cell_type": "code",
   "execution_count": 47,
   "id": "e01c590e-71cb-44b2-9d39-7c15d9a8ed39",
   "metadata": {},
   "outputs": [
    {
     "name": "stdin",
     "output_type": "stream",
     "text": [
      "ENTER THE PASSWORD Ajj!12\n"
     ]
    },
    {
     "name": "stdout",
     "output_type": "stream",
     "text": [
      "2\n"
     ]
    }
   ],
   "source": [
    "password=input(\"ENTER THE PASSWORD\")\n",
    "uc,lc,d,sp,cc=1,1,1,1,8\n",
    "sp_count=0\n",
    "fc=0\n",
    "c=0\n",
    "l=len(password)\n",
    "if not l>=6 and l<22:\n",
    "    c=1\n",
    "for i in range(l):\n",
    "    if password[i].isupper():\n",
    "        uc=0\n",
    "    if password[i].islower():\n",
    "        lc=0\n",
    "    if password[i].isdigit():\n",
    "        d=0\n",
    "    if password[i] in \"!@#$^&*\":\n",
    "        sp_count+=1\n",
    "    if sp_count >=2:\n",
    "        sp =0\n",
    "    if i+1<l and password[i]==password[i+1]:\n",
    "        cc=1\n",
    "fc+=uc+lc+d+sp+cc+c\n",
    "print(fc)    "
   ]
  },
  {
   "cell_type": "code",
   "execution_count": null,
   "id": "966b0a09-f738-41d7-86c6-4d129cab25b5",
   "metadata": {},
   "outputs": [],
   "source": [
    "# 242. Valid Anagram in leetcode"
   ]
  },
  {
   "cell_type": "code",
   "execution_count": null,
   "id": "69b48542-43fc-4449-a456-db0c8b8f5377",
   "metadata": {},
   "outputs": [],
   "source": [
    "# 1832. Check if the Sentence Is Pangram in leetcode"
   ]
  },
  {
   "cell_type": "code",
   "execution_count": 49,
   "id": "96f6946a-7af7-42cd-adb9-315581c9c78e",
   "metadata": {},
   "outputs": [
    {
     "name": "stdout",
     "output_type": "stream",
     "text": [
      "False\n"
     ]
    }
   ],
   "source": [
    "#\n",
    "s=\"malayalam\"\n",
    "i,j=2,len(s)-1\n",
    "while i<=j:\n",
    "    if s[i]!=s[j]:\n",
    "        print(False)\n",
    "        break \n",
    "    i+=1\n",
    "    j-=1\n",
    "else:\n",
    "    print(True)"
   ]
  },
  {
   "cell_type": "code",
   "execution_count": null,
   "id": "8d3f0c1f-6b6c-4829-ae56-c56bdcb6b9ca",
   "metadata": {},
   "outputs": [],
   "source": [
    "# 125. Valid Palindrome"
   ]
  },
  {
   "cell_type": "code",
   "execution_count": null,
   "id": "ee7d53a3-8843-4b33-8b84-444bcf6ef4f8",
   "metadata": {},
   "outputs": [],
   "source": []
  },
  {
   "cell_type": "code",
   "execution_count": null,
   "id": "e2d94ec0-e7b8-44bc-8dd0-19ecdf6828bd",
   "metadata": {},
   "outputs": [],
   "source": [
    "#roman to integer"
   ]
  },
  {
   "cell_type": "code",
   "execution_count": null,
   "id": "6272c039-2c63-4a39-9eae-9028506fcafd",
   "metadata": {},
   "outputs": [],
   "source": [
    "#ispalindrome in leetcode"
   ]
  },
  {
   "cell_type": "code",
   "execution_count": null,
   "id": "46c21084-1095-4fbf-8ab0-de018d82479c",
   "metadata": {},
   "outputs": [],
   "source": []
  }
 ],
 "metadata": {
  "kernelspec": {
   "display_name": "anaconda-ai-2024.04-py310",
   "language": "python",
   "name": "conda-env-anaconda-ai-2024.04-py310-py"
  },
  "language_info": {
   "codemirror_mode": {
    "name": "ipython",
    "version": 3
   },
   "file_extension": ".py",
   "mimetype": "text/x-python",
   "name": "python",
   "nbconvert_exporter": "python",
   "pygments_lexer": "ipython3",
   "version": "3.10.13"
  }
 },
 "nbformat": 4,
 "nbformat_minor": 5
}
